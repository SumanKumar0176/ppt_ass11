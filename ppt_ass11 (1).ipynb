{
 "cells": [
  {
   "cell_type": "code",
   "execution_count": 7,
   "id": "009d2a26-975a-4591-bef1-91db44a8ba23",
   "metadata": {},
   "outputs": [
    {
     "data": {
      "text/plain": [
       "'\\n\\n **Question 1**\\n\\nGiven a non-negative integer\\xa0`x`, return\\xa0*the square root of*\\xa0`x`\\xa0*rounded down to the nearest integer*. The returned integer should be\\xa0**non-negative**\\xa0as well.\\n\\nYou\\xa0**must not use**\\xa0any built-in exponent function or operator.\\n\\n- For example, do not use\\xa0`pow(x, 0.5)`\\xa0in c++ or\\xa0`x ** 0.5`\\xa0in python.\\n'"
      ]
     },
     "execution_count": 7,
     "metadata": {},
     "output_type": "execute_result"
    }
   ],
   "source": [
    "\"\"\"\n",
    "\n",
    " **Question 1**\n",
    "\n",
    "Given a non-negative integer `x`, return *the square root of* `x` *rounded down to the nearest integer*. The returned integer should be **non-negative** as well.\n",
    "\n",
    "You **must not use** any built-in exponent function or operator.\n",
    "\n",
    "- For example, do not use `pow(x, 0.5)` in c++ or `x ** 0.5` in python.\n",
    "\"\"\""
   ]
  },
  {
   "cell_type": "code",
   "execution_count": 8,
   "id": "b4b6e2d2-2a6f-403a-9d3e-b5fb079cad17",
   "metadata": {},
   "outputs": [
    {
     "name": "stdout",
     "output_type": "stream",
     "text": [
      "2\n"
     ]
    }
   ],
   "source": [
    "def sqrt(x):\n",
    "    if x == 0:\n",
    "        return 0\n",
    "\n",
    "    # Initial guess for the square root\n",
    "    guess = x // 2\n",
    "    while True:\n",
    "        # Improve the guess using the Babylonian method\n",
    "        new_guess = (guess + x // guess) // 2\n",
    "        if new_guess >= guess:\n",
    "            return guess\n",
    "        guess = new_guess\n",
    "\n",
    "\n",
    "# Test the function\n",
    "x = 4\n",
    "result = sqrt(x)\n",
    "print(result)\n"
   ]
  },
  {
   "cell_type": "code",
   "execution_count": 10,
   "id": "7cfc9940-4623-4040-88c0-6f51a4c9043f",
   "metadata": {},
   "outputs": [
    {
     "data": {
      "text/plain": [
       "'\\n\\n**Question 2**\\n\\nA peak element is an element that is strictly greater than its neighbors.\\n\\nGiven a\\xa0**0-indexed**\\xa0integer array\\xa0`nums`, find a peak element, and return its index. If the array contains multiple peaks, return the index to\\xa0**any of the peaks**.\\n\\nYou may imagine that\\xa0`nums[-1] = nums[n] = -∞`. In other words, an element is always considered to be strictly greater than a neighbor that is outside the array.\\n\\nYou must write an algorithm that runs in\\xa0`O(log n)`\\xa0time.\\n\\n'"
      ]
     },
     "execution_count": 10,
     "metadata": {},
     "output_type": "execute_result"
    }
   ],
   "source": [
    "\"\"\"\n",
    "\n",
    "**Question 2**\n",
    "\n",
    "A peak element is an element that is strictly greater than its neighbors.\n",
    "\n",
    "Given a **0-indexed** integer array `nums`, find a peak element, and return its index. If the array contains multiple peaks, return the index to **any of the peaks**.\n",
    "\n",
    "You may imagine that `nums[-1] = nums[n] = -∞`. In other words, an element is always considered to be strictly greater than a neighbor that is outside the array.\n",
    "\n",
    "You must write an algorithm that runs in `O(log n)` time.\n",
    "\n",
    "\"\"\""
   ]
  },
  {
   "cell_type": "code",
   "execution_count": 11,
   "id": "c6773287-f742-430e-bd98-7ff4ca587ed5",
   "metadata": {},
   "outputs": [],
   "source": [
    "def findPeakElement(nums):\n",
    "    left, right = 0, len(nums) - 1\n",
    "\n",
    "    while left <= right:\n",
    "        mid = left + (right - left) // 2\n",
    "\n",
    "        if (mid == 0 or nums[mid] > nums[mid - 1]) and (mid == len(nums) - 1 or nums[mid] > nums[mid + 1]):\n",
    "            return mid\n",
    "        elif nums[mid] < nums[mid + 1]:\n",
    "            left = mid + 1\n",
    "        else:\n",
    "            right = mid - 1\n",
    "\n",
    "    # No peak found, return any valid index\n",
    "    return left\n"
   ]
  },
  {
   "cell_type": "code",
   "execution_count": 12,
   "id": "e33c4371-42fe-4dfd-b51c-5ad49099896d",
   "metadata": {},
   "outputs": [
    {
     "data": {
      "text/plain": [
       "'\\n\\n **Question 3**\\n\\n****\\n\\nGiven an array\\xa0`nums`\\xa0containing\\xa0`n`\\xa0distinct numbers in the range\\xa0`[0, n]`, return\\xa0*the only number in the range that is missing from the array.*\\n\\n'"
      ]
     },
     "execution_count": 12,
     "metadata": {},
     "output_type": "execute_result"
    }
   ],
   "source": [
    "\"\"\"\n",
    "\n",
    " **Question 3**\n",
    "\n",
    "****\n",
    "\n",
    "Given an array `nums` containing `n` distinct numbers in the range `[0, n]`, return *the only number in the range that is missing from the array.*\n",
    "\n",
    "\"\"\""
   ]
  },
  {
   "cell_type": "code",
   "execution_count": 13,
   "id": "5846670e-470c-45cd-8674-ca772112fb61",
   "metadata": {},
   "outputs": [],
   "source": [
    "def missingNumber(nums):\n",
    "    n = len(nums)\n",
    "    missing = n\n",
    "\n",
    "    for i, num in enumerate(nums):\n",
    "        missing ^= i ^ num\n",
    "\n",
    "    return missing\n"
   ]
  },
  {
   "cell_type": "code",
   "execution_count": 15,
   "id": "a08e8392-5fd1-418a-b43c-3b11861d7657",
   "metadata": {},
   "outputs": [
    {
     "data": {
      "text/plain": [
       "2"
      ]
     },
     "execution_count": 15,
     "metadata": {},
     "output_type": "execute_result"
    }
   ],
   "source": [
    "\n",
    "nums = [3, 0, 1]\n",
    "missingNumber(nums)"
   ]
  },
  {
   "cell_type": "code",
   "execution_count": 16,
   "id": "9aa5fd14-7078-4365-8443-3f165198f348",
   "metadata": {},
   "outputs": [
    {
     "data": {
      "text/plain": [
       "'\\n **Question 4**\\n\\nGiven an array of integers\\xa0`nums`\\xa0containing\\xa0`n + 1`\\xa0integers where each integer is in the range\\xa0`[1, n]`\\xa0inclusive.\\n\\nThere is only\\xa0**one repeated number**\\xa0in\\xa0`nums`, return\\xa0*this\\xa0repeated\\xa0number*.\\n\\nYou must solve the problem\\xa0**without**\\xa0modifying the array\\xa0`nums`\\xa0and uses only constant extra space.\\n\\n'"
      ]
     },
     "execution_count": 16,
     "metadata": {},
     "output_type": "execute_result"
    }
   ],
   "source": [
    "\"\"\"\n",
    " **Question 4**\n",
    "\n",
    "Given an array of integers `nums` containing `n + 1` integers where each integer is in the range `[1, n]` inclusive.\n",
    "\n",
    "There is only **one repeated number** in `nums`, return *this repeated number*.\n",
    "\n",
    "You must solve the problem **without** modifying the array `nums` and uses only constant extra space.\n",
    "\n",
    "\"\"\""
   ]
  },
  {
   "cell_type": "code",
   "execution_count": 17,
   "id": "2c177174-9c51-486c-a9a1-174ca496a61c",
   "metadata": {},
   "outputs": [],
   "source": [
    "def findDuplicate(nums):\n",
    "    slow = fast = nums[0]\n",
    "\n",
    "    # Find the meeting point of slow and fast pointers\n",
    "    while True:\n",
    "        slow = nums[slow]\n",
    "        fast = nums[nums[fast]]\n",
    "        if slow == fast:\n",
    "            break\n",
    "\n",
    "    # Reset the slow pointer to the start\n",
    "    slow = nums[0]\n",
    "\n",
    "    # Move both pointers until they meet again\n",
    "    while slow != fast:\n",
    "        slow = nums[slow]\n",
    "        fast = nums[fast]\n",
    "\n",
    "    return slow\n"
   ]
  },
  {
   "cell_type": "code",
   "execution_count": 18,
   "id": "0cf4573a-d4a6-4d66-ba6c-db9c0324362a",
   "metadata": {},
   "outputs": [
    {
     "data": {
      "text/plain": [
       "2"
      ]
     },
     "execution_count": 18,
     "metadata": {},
     "output_type": "execute_result"
    }
   ],
   "source": [
    "nums = [1, 3, 4, 2, 2]\n",
    "findDuplicate(nums)"
   ]
  },
  {
   "cell_type": "code",
   "execution_count": 19,
   "id": "ae401e39-6f7d-42f0-b0ff-11c7e3129281",
   "metadata": {},
   "outputs": [
    {
     "data": {
      "text/plain": [
       "'\\n **Question 5**\\n\\nGiven two integer arrays\\xa0`nums1`\\xa0and\\xa0`nums2`, return\\xa0*an array of their intersection*. Each element in the result must be\\xa0**unique**\\xa0and you may return the result in\\xa0**any order**.\\n\\n'"
      ]
     },
     "execution_count": 19,
     "metadata": {},
     "output_type": "execute_result"
    }
   ],
   "source": [
    "\"\"\"\n",
    " **Question 5**\n",
    "\n",
    "Given two integer arrays `nums1` and `nums2`, return *an array of their intersection*. Each element in the result must be **unique** and you may return the result in **any order**.\n",
    "\n",
    "\"\"\""
   ]
  },
  {
   "cell_type": "code",
   "execution_count": 20,
   "id": "8d8977d8-abec-4fb5-a64d-4b51f06ae6dc",
   "metadata": {},
   "outputs": [],
   "source": [
    "def intersection(nums1, nums2):\n",
    "    set1 = set(nums1)\n",
    "    set2 = set(nums2)\n",
    "    intersection_set = set1.intersection(set2)\n",
    "    return list(intersection_set)\n"
   ]
  },
  {
   "cell_type": "code",
   "execution_count": 22,
   "id": "a76fbe0e-0d5f-4ba2-97e0-be486b95028f",
   "metadata": {},
   "outputs": [
    {
     "data": {
      "text/plain": [
       "[2]"
      ]
     },
     "execution_count": 22,
     "metadata": {},
     "output_type": "execute_result"
    }
   ],
   "source": [
    "nums1 = [1, 2, 2, 1]\n",
    "nums2 = [2, 2]\n",
    "intersection(nums1, nums2)\n"
   ]
  },
  {
   "cell_type": "code",
   "execution_count": 23,
   "id": "52f565ea-78ab-4448-9a4e-38850e985c4b",
   "metadata": {},
   "outputs": [
    {
     "data": {
      "text/plain": [
       "'\\n**Question 6**\\n\\nSuppose an array of length\\xa0`n`\\xa0sorted in ascending order is\\xa0**rotated**\\xa0between\\xa0`1`\\xa0and\\xa0`n`\\xa0times. For example, the array\\xa0`nums = [0,1,2,4,5,6,7]`\\xa0might become:\\n\\n- `[4,5,6,7,0,1,2]`\\xa0if it was rotated\\xa0`4`\\xa0times.\\n- `[0,1,2,4,5,6,7]`\\xa0if it was rotated\\xa0`7`\\xa0times.\\n\\nNotice that\\xa0**rotating**\\xa0an array\\xa0`[a[0], a[1], a[2], ..., a[n-1]]`\\xa01 time results in the array\\xa0`[a[n-1], a[0], a[1], a[2], ..., a[n-2]]`.\\n\\nGiven the sorted rotated array\\xa0`nums`\\xa0of\\xa0**unique**\\xa0elements, return\\xa0*the minimum element of this array*.\\n\\nYou must write an algorithm that runs in\\xa0`O(log n) time.`\\n\\n'"
      ]
     },
     "execution_count": 23,
     "metadata": {},
     "output_type": "execute_result"
    }
   ],
   "source": [
    "\"\"\"\n",
    "**Question 6**\n",
    "\n",
    "Suppose an array of length `n` sorted in ascending order is **rotated** between `1` and `n` times. For example, the array `nums = [0,1,2,4,5,6,7]` might become:\n",
    "\n",
    "- `[4,5,6,7,0,1,2]` if it was rotated `4` times.\n",
    "- `[0,1,2,4,5,6,7]` if it was rotated `7` times.\n",
    "\n",
    "Notice that **rotating** an array `[a[0], a[1], a[2], ..., a[n-1]]` 1 time results in the array `[a[n-1], a[0], a[1], a[2], ..., a[n-2]]`.\n",
    "\n",
    "Given the sorted rotated array `nums` of **unique** elements, return *the minimum element of this array*.\n",
    "\n",
    "You must write an algorithm that runs in `O(log n) time.`\n",
    "\n",
    "\"\"\""
   ]
  },
  {
   "cell_type": "code",
   "execution_count": 24,
   "id": "4f730ea8-cc82-47ad-8c27-5fb45f7832c6",
   "metadata": {},
   "outputs": [],
   "source": [
    "def findMin(nums):\n",
    "    left = 0\n",
    "    right = len(nums) - 1\n",
    "\n",
    "    while left < right:\n",
    "        mid = (left + right) // 2\n",
    "\n",
    "        if nums[mid] > nums[right]:\n",
    "            left = mid + 1\n",
    "        else:\n",
    "            right = mid\n",
    "\n",
    "    return nums[left]\n"
   ]
  },
  {
   "cell_type": "code",
   "execution_count": 25,
   "id": "b49c9bd5-d375-4302-8146-238183dd9b1e",
   "metadata": {},
   "outputs": [
    {
     "data": {
      "text/plain": [
       "1"
      ]
     },
     "execution_count": 25,
     "metadata": {},
     "output_type": "execute_result"
    }
   ],
   "source": [
    "nums = [3, 4, 5, 1, 2]\n",
    "findMin(nums) "
   ]
  },
  {
   "cell_type": "code",
   "execution_count": 26,
   "id": "f40466dd-1701-4e87-b6c6-b00196ebb1a8",
   "metadata": {},
   "outputs": [
    {
     "data": {
      "text/plain": [
       "' **Question 7**\\n\\nGiven an array of integers\\xa0`nums`\\xa0sorted in non-decreasing order, find the starting and ending position of a given\\xa0`target`\\xa0value.\\n\\nIf\\xa0`target`\\xa0is not found in the array, return\\xa0`[-1, -1]`.\\n\\nYou must\\xa0write an algorithm with\\xa0`O(log n)`\\xa0runtime complexity.\\n\\n'"
      ]
     },
     "execution_count": 26,
     "metadata": {},
     "output_type": "execute_result"
    }
   ],
   "source": [
    "\"\"\" **Question 7**\n",
    "\n",
    "Given an array of integers `nums` sorted in non-decreasing order, find the starting and ending position of a given `target` value.\n",
    "\n",
    "If `target` is not found in the array, return `[-1, -1]`.\n",
    "\n",
    "You must write an algorithm with `O(log n)` runtime complexity.\n",
    "\n",
    "\"\"\""
   ]
  },
  {
   "cell_type": "code",
   "execution_count": 30,
   "id": "97428478-d8dd-4f3a-b051-61302087da2d",
   "metadata": {},
   "outputs": [],
   "source": [
    "def searchRange(nums, target):\n",
    "    start = -1\n",
    "    end = -1\n",
    "\n",
    "    # Find the starting position\n",
    "    left = 0\n",
    "    right = len(nums) - 1\n",
    "\n",
    "    while left <= right:\n",
    "        mid = (left + right) // 2\n",
    "\n",
    "        if nums[mid] == target:\n",
    "            start = mid\n",
    "            right = mid - 1\n",
    "        elif nums[mid] > target:\n",
    "            right = mid - 1\n",
    "        else:\n",
    "            left = mid + 1\n",
    "\n",
    "    # Find the ending position\n",
    "    left = start\n",
    "    right = len(nums) - 1\n",
    "\n",
    "    while left <= right:\n",
    "        mid = (left + right) // 2\n",
    "\n",
    "        if nums[mid] == target:\n",
    "            end = mid\n",
    "            left = mid + 1\n",
    "        elif nums[mid] > target:\n",
    "            right = mid - 1\n",
    "        else:\n",
    "            left = mid + 1\n",
    "\n",
    "    return [start, end]\n"
   ]
  },
  {
   "cell_type": "code",
   "execution_count": 32,
   "id": "58b51bd8-60d4-4b04-a5a4-2be258ff1a6a",
   "metadata": {},
   "outputs": [
    {
     "data": {
      "text/plain": [
       "[3, 4]"
      ]
     },
     "execution_count": 32,
     "metadata": {},
     "output_type": "execute_result"
    }
   ],
   "source": [
    "nums = [5, 7, 7, 8, 8, 10]\n",
    "target = 8\n",
    "searchRange(nums, target)"
   ]
  },
  {
   "cell_type": "code",
   "execution_count": 33,
   "id": "52db0043-0f2e-408a-b31f-975cf7f9eee9",
   "metadata": {},
   "outputs": [
    {
     "data": {
      "text/plain": [
       "'\\n **Question 8**\\n\\nGiven two integer arrays\\xa0`nums1`\\xa0and\\xa0`nums2`, return\\xa0*an array of their intersection*. Each element in the result must appear as many times as it shows in both arrays and you may return the result in\\xa0**any order**.\\n\\n'"
      ]
     },
     "execution_count": 33,
     "metadata": {},
     "output_type": "execute_result"
    }
   ],
   "source": [
    "\"\"\"\n",
    " **Question 8**\n",
    "\n",
    "Given two integer arrays `nums1` and `nums2`, return *an array of their intersection*. Each element in the result must appear as many times as it shows in both arrays and you may return the result in **any order**.\n",
    "\n",
    "\"\"\""
   ]
  },
  {
   "cell_type": "code",
   "execution_count": 34,
   "id": "6f899db5-bd95-40aa-bf05-a0ddac185125",
   "metadata": {},
   "outputs": [],
   "source": [
    "from collections import defaultdict\n",
    "\n",
    "def intersect(nums1, nums2):\n",
    "    freq_map = defaultdict(int)\n",
    "\n",
    "    # Store the frequency of elements in nums1\n",
    "    for num in nums1:\n",
    "        freq_map[num] += 1\n",
    "\n",
    "    intersection = []\n",
    "\n",
    "    # Find the intersection elements with frequency\n",
    "    for num in nums2:\n",
    "        if freq_map[num] > 0:\n",
    "            intersection.append(num)\n",
    "            freq_map[num] -= 1\n",
    "\n",
    "    return intersection\n"
   ]
  },
  {
   "cell_type": "code",
   "execution_count": 35,
   "id": "45b34d70-3c01-482d-8bdc-752bd6584655",
   "metadata": {},
   "outputs": [
    {
     "data": {
      "text/plain": [
       "[2, 2]"
      ]
     },
     "execution_count": 35,
     "metadata": {},
     "output_type": "execute_result"
    }
   ],
   "source": [
    "nums1 = [1, 2, 2, 1]\n",
    "nums2 = [2, 2]\n",
    "intersect(nums1, nums2)"
   ]
  },
  {
   "cell_type": "code",
   "execution_count": null,
   "id": "618ea0cf-3b7d-40d8-89de-90dbe19d2dc4",
   "metadata": {},
   "outputs": [],
   "source": []
  }
 ],
 "metadata": {
  "kernelspec": {
   "display_name": "Python 3 (ipykernel)",
   "language": "python",
   "name": "python3"
  },
  "language_info": {
   "codemirror_mode": {
    "name": "ipython",
    "version": 3
   },
   "file_extension": ".py",
   "mimetype": "text/x-python",
   "name": "python",
   "nbconvert_exporter": "python",
   "pygments_lexer": "ipython3",
   "version": "3.10.6"
  }
 },
 "nbformat": 4,
 "nbformat_minor": 5
}
